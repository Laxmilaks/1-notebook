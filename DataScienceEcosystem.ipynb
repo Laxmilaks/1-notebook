{
 "cells": [
  {
   "cell_type": "markdown",
   "id": "c07e12f0-b748-4b34-bb66-54631478a4fe",
   "metadata": {
    "panel-layout": {
     "height": 51.1364,
     "visible": true,
     "width": 100
    }
   },
   "source": [
    "# Data Science Tools and Ecosystem"
   ]
  },
  {
   "cell_type": "code",
   "execution_count": null,
   "id": "772abc0b-ef09-4363-a66b-258593a6c6f5",
   "metadata": {},
   "outputs": [],
   "source": [
    "In this notebook, Data Science Tools and Ecosystem are summarized."
   ]
  },
  {
   "cell_type": "markdown",
   "id": "e3df3769-a69d-41f3-b669-359099dc9ba8",
   "metadata": {},
   "source": [
    "Some of the popular languages that Data Scientists use are:\n",
    "1. Python\n",
    "2. R\n",
    "3. SQL\n",
    "4. c++\n",
    "5. Java\n",
    "6. Julia etc..;\n"
   ]
  },
  {
   "cell_type": "markdown",
   "id": "d0fa3d4c-7c7b-4d5e-90e7-ded1553bf4a7",
   "metadata": {},
   "source": [
    "Some of the commonly used libraries used by Data Scientists include:\n",
    "1. NumPy\n",
    "2. Pandas\n",
    "3. Matplotlib\n",
    "4. Scikit-learn\n",
    "6. TensorFlow\n",
    "7. SciPy\n",
    "8. Keras etc..;"
   ]
  },
  {
   "cell_type": "markdown",
   "id": "93f92779-9787-46cf-836a-9d5d978293c8",
   "metadata": {},
   "source": [
    "|Data Science Tools|\n",
    "|---| \n",
    "|SAS|\n",
    "|Apache Hadoop|\n",
    "|TensorFlow|"
   ]
  },
  {
   "cell_type": "markdown",
   "id": "60d5ac8c-287c-4bde-8be1-2875cae31cb0",
   "metadata": {},
   "source": [
    "### Below are a few examples of evaluating arithmetic expressions in Python"
   ]
  },
  {
   "cell_type": "code",
   "execution_count": 25,
   "id": "447c6bc6-129a-4446-894e-6c93cf8e290d",
   "metadata": {},
   "outputs": [
    {
     "data": {
      "text/plain": [
       "17"
      ]
     },
     "execution_count": 25,
     "metadata": {},
     "output_type": "execute_result"
    }
   ],
   "source": [
    "#This a simple arithmetic expression to mutiply then add integers\n",
    "(3*4)+5"
   ]
  },
  {
   "cell_type": "code",
   "execution_count": 29,
   "id": "3e3081e7-ce82-4ff1-8197-88354e645e79",
   "metadata": {},
   "outputs": [
    {
     "data": {
      "text/plain": [
       "3.3333333333333335"
      ]
     },
     "execution_count": 29,
     "metadata": {},
     "output_type": "execute_result"
    }
   ],
   "source": [
    "#his will convert 200 minutes to hours by diving by 60\n",
    "200/60"
   ]
  },
  {
   "cell_type": "markdown",
   "id": "e0afc37c-8849-41c5-b2ff-91d531a61d4d",
   "metadata": {},
   "source": [
    "__Objective__\n",
    "* List popular languages for Data Science\n",
    "* List popular libraries for Data Science\n",
    "* List of well known Data Science Tools\n",
    "* How to Provide comments in the cell"
   ]
  },
  {
   "cell_type": "markdown",
   "id": "19507e78-9f89-4c79-aeda-6a0e3f4e1ddf",
   "metadata": {},
   "source": [
    "## Author\n",
    "Laxmi"
   ]
  },
  {
   "cell_type": "code",
   "execution_count": null,
   "id": "049dc557-e093-4c62-97bf-3e274faba203",
   "metadata": {},
   "outputs": [],
   "source": []
  }
 ],
 "metadata": {
  "kernelspec": {
   "display_name": "Python [conda env:base] *",
   "language": "python",
   "name": "conda-base-py"
  },
  "language_info": {
   "codemirror_mode": {
    "name": "ipython",
    "version": 3
   },
   "file_extension": ".py",
   "mimetype": "text/x-python",
   "name": "python",
   "nbconvert_exporter": "python",
   "pygments_lexer": "ipython3",
   "version": "3.12.7"
  },
  "panel-cell-order": [
   "c07e12f0-b748-4b34-bb66-54631478a4fe"
  ]
 },
 "nbformat": 4,
 "nbformat_minor": 5
}
